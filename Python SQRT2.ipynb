{
 "cells": [
  {
   "cell_type": "markdown",
   "metadata": {},
   "source": [
    "# Task for Machine Learning and Statistics\n",
    "\n",
    "## Student: Hans Perez Rubin de Celis - G00387884\n",
    "\n"
   ]
  },
  {
   "cell_type": "markdown",
   "metadata": {},
   "source": [
    "# Task 1\n",
    "\n",
    "Write a Python function called `sqrt2` that calculates and prints to the screen the square root of 2 to 100 decimal places. Your code should not depend on any module from the standard library1 or otherwise. You should research the task first and include references and a description of your algorithm."
   ]
  },
  {
   "cell_type": "markdown",
   "metadata": {},
   "source": [
    "## Introduction\n",
    "\n",
    "The Babylonians are credited with having first invented this  square root method, possibly as early as 1900 BC.\n",
    "\n",
    "The Babylonians had an accurate and simple method for finding the square roots of numbers. This method is also known as Heron’s method, after the Greek mathematician who lived in the first century AD. Indian mathematicians also used a similar method as early as 800 BC.\"\n",
    "\n",
    "It wasn't invented, but it was certainly discovered long ago. When you arrange sixteen blocks in a square on the floor, you'll have four blocks by four blocks, or 4 x 4 = 16. Go the other way to get the square root; the square root of 16 is 4. People have known about this for ages.\n",
    "\n",
    "![Imagent](http://www.madrimasd.org/blogs/matematicas/files/2019/09/Ybc7289-bw.jpg)"
   ]
  },
  {
   "cell_type": "code",
   "execution_count": 11,
   "metadata": {
    "scrolled": true
   },
   "outputs": [
    {
     "data": {
      "image/jpeg": "[encoded data removed]",
      "text/html": [
       "\n",
       "        <iframe\n",
       "            width=\"400\"\n",
       "            height=\"300\"\n",
       "            src=\"https://www.youtube.com/embed/mbc3_e5lWw0\"\n",
       "            frameborder=\"0\"\n",
       "            allowfullscreen\n",
       "        ></iframe>\n",
       "        "
      ],
      "text/plain": [
       "<IPython.lib.display.YouTubeVideo at 0x1fef92f8d90>"
      ]
     },
     "metadata": {},
     "output_type": "display_data"
    }
   ],
   "source": [
    "from IPython.display import YouTubeVideo\n",
    "youtube_video = YouTubeVideo ('mbc3_e5lWw0')\n",
    "display (youtube_video)"
   ]
  },
  {
   "cell_type": "markdown",
   "metadata": {},
   "source": [
    "## Square Roots in Mathematics\n",
    "\n",
    "In algebra, a **square**, x, is the result of a [number](https://realpython.com/python-numbers/), n, multiplied by itself: x = n².\n",
    "> The present work has taken as reference the study made by Alex Ronquillo in his article on the Real Python [website](https://realpython.com/python-square-root-function/)\n",
    "\n",
    "You can calculate squares using Python:"
   ]
  },
  {
   "cell_type": "code",
   "execution_count": 1,
   "metadata": {},
   "outputs": [
    {
     "data": {
      "text/plain": [
       "25"
      ]
     },
     "execution_count": 1,
     "metadata": {},
     "output_type": "execute_result"
    }
   ],
   "source": [
    "n = 5\n",
    "x = n ** 2\n",
    "x"
   ]
  },
  {
   "cell_type": "markdown",
   "metadata": {},
   "source": [
    "The Python ** operator is used for calculating the power of a number. In this case, 5 squared, or 5 to the power of 2, is 25.\n",
    "\n",
    "The square root, then, is the number n, which when multiplied by itself yields the square, x.\n",
    "\n",
    "In this example, n, the square root, is 5.\n",
    "\n",
    "25 is an example of a **perfect square**. Perfect squares are the squares of integer values:"
   ]
  },
  {
   "cell_type": "code",
   "execution_count": 3,
   "metadata": {},
   "outputs": [
    {
     "data": {
      "text/plain": [
       "1"
      ]
     },
     "execution_count": 3,
     "metadata": {},
     "output_type": "execute_result"
    }
   ],
   "source": [
    "1 ** 2"
   ]
  },
  {
   "cell_type": "code",
   "execution_count": 4,
   "metadata": {},
   "outputs": [
    {
     "data": {
      "text/plain": [
       "4"
      ]
     },
     "execution_count": 4,
     "metadata": {},
     "output_type": "execute_result"
    }
   ],
   "source": [
    "2 ** 2"
   ]
  },
  {
   "cell_type": "code",
   "execution_count": 5,
   "metadata": {},
   "outputs": [
    {
     "data": {
      "text/plain": [
       "9"
      ]
     },
     "execution_count": 5,
     "metadata": {},
     "output_type": "execute_result"
    }
   ],
   "source": [
    "3 ** 2"
   ]
  },
  {
   "cell_type": "markdown",
   "metadata": {},
   "source": [
    "You might have memorized some of these perfect squares when you learned your multiplication tables in an elementary algebra class.\n",
    "\n",
    "If you’re given a small perfect square, it may be straightforward enough to calculate or memorize its square root. But for most other squares, this calculation can get a bit more tedious. Often, an estimation is good enough when you don’t have a calculator.\n",
    "\n",
    "Fortunately, as a Python developer, you do have a calculator, namely the [Python interpreter](https://realpython.com/interacting-with-python/#using-the-python-interpreter-interactively)!\n",
    "\n",
    "## The Python Square Root Function\n",
    "\n",
    "Python’s [math module](https://realpython.com/python-math-module/), in the standard library, can help you work on math-related problems in code. It contains many useful functions, such as `remainder()` and `factorial()`. It also includes the [Python square root function, sqrt()](https://docs.python.org/3/library/math.html#math.sqrt).\n",
    "\n",
    "You’ll begin by importing math:\n"
   ]
  },
  {
   "cell_type": "code",
   "execution_count": 6,
   "metadata": {},
   "outputs": [],
   "source": [
    "import math"
   ]
  },
  {
   "cell_type": "markdown",
   "metadata": {},
   "source": [
    "That’s all it takes! You can now use math.sqrt() to calculate square roots.\n",
    "\n",
    "`sqrt()` has a straightforward interface.\n",
    "\n",
    "It takes one parameter, x, which (as you saw before) stands for the square for which you are trying to calculate the square root. In the example from earlier, this would be 25.\n",
    "\n",
    "The return value of sqrt() is the square root of x, as a [floating point number](https://realpython.com/python-data-types/#floating-point-numbers). In the example, this would be 5.0.\n",
    "\n",
    "Let’s take a look at some examples of how to (and how not to) use `sqrt()`."
   ]
  },
  {
   "cell_type": "markdown",
   "metadata": {},
   "source": [
    "## The Square Root of a Positive Number\n",
    "\n",
    "One type of argument you can pass to sqrt() is a positive number. This includes both `int` and `float` types.\n",
    "\n",
    "For example, you can solve for the square root of 49 using `sqrt()`:"
   ]
  },
  {
   "cell_type": "code",
   "execution_count": 12,
   "metadata": {},
   "outputs": [
    {
     "data": {
      "text/plain": [
       "7.0"
      ]
     },
     "execution_count": 12,
     "metadata": {},
     "output_type": "execute_result"
    }
   ],
   "source": [
    "math.sqrt(49)"
   ]
  },
  {
   "cell_type": "markdown",
   "metadata": {},
   "source": [
    "The return value is 7.0 (the square root of 49) as a floating point number.\n",
    "\n",
    "Along with integers, you can also pass `float` values:"
   ]
  },
  {
   "cell_type": "code",
   "execution_count": 14,
   "metadata": {},
   "outputs": [
    {
     "data": {
      "text/plain": [
       "8.396427811873332"
      ]
     },
     "execution_count": 14,
     "metadata": {},
     "output_type": "execute_result"
    }
   ],
   "source": [
    "math.sqrt(70.5)"
   ]
  },
  {
   "cell_type": "markdown",
   "metadata": {},
   "source": [
    "You can verify the accuracy of this square root by calculating its inverse:\n",
    "\n"
   ]
  },
  {
   "cell_type": "code",
   "execution_count": 15,
   "metadata": {},
   "outputs": [
    {
     "data": {
      "text/plain": [
       "70.5"
      ]
     },
     "execution_count": 15,
     "metadata": {},
     "output_type": "execute_result"
    }
   ],
   "source": [
    "8.396427811873332 ** 2"
   ]
  },
  {
   "cell_type": "markdown",
   "metadata": {},
   "source": [
    "Define a function that calculates the square root of a number"
   ]
  },
  {
   "cell_type": "code",
   "execution_count": 19,
   "metadata": {},
   "outputs": [
    {
     "name": "stdout",
     "output_type": "stream",
     "text": [
      "9.0\n",
      "9.099999999999984\n"
     ]
    }
   ],
   "source": [
    "import math\n",
    "\n",
    "x = 81\n",
    "\n",
    "print(math.sqrt(x))\n",
    "\n",
    "def square_root(n):\n",
    "\n",
    "    x = 0\n",
    "\n",
    "    while x * x <= n:\n",
    "        x += 0.1\n",
    "    \n",
    "    return x\n",
    "\n",
    "print(square_root(x))"
   ]
  },
  {
   "cell_type": "markdown",
   "metadata": {},
   "source": [
    "## Babylonian method\n",
    "\n",
    "In 1600 BC Mesopotamia had already calculated the root of 2 correctly to 6 decimal places. It was probably calculated using the algorithm known today as the Babylonian method.\n",
    "\n",
    "The explanation of this algorithm can be deduced from a rectangle with an area equal to the number that we want to calculate the area for and through an iterative process convert it into a square with the same area. Here we will deduce the same algorithm from a numerical method to find the zeros of the function.\n",
    "\n",
    "$$f(x)=x2-S$$\n",
    "\n",
    "To find the zeros of a function numerically there are several methods, one of the most popular is the Newton-Raphson method (sometimes called simply Newton's). In this article we will deduce the formula of the Babylonian method and implement it in Python.\n",
    "  \n",
    "![imagent](https://upload.wikimedia.org/wikipedia/commons/e/e0/NewtonIteration_Ani.gif)\n",
    "\n",
    "                 Newton's method animation"
   ]
  },
  {
   "cell_type": "markdown",
   "metadata": {},
   "source": [
    "As we already mentioned the zeros of the function\n",
    "\n",
    "$$f(x)=x2-S$$\n",
    " \n",
    "  are\n",
    "$$\\pm√S$$\n",
    "\n",
    "\n",
    "therefore if we can approximate its zeros with this method we will obtain the root we were looking for."
   ]
  },
  {
   "cell_type": "code",
   "execution_count": 21,
   "metadata": {
    "scrolled": true
   },
   "outputs": [
    {
     "data": {
      "image/png": "[encoded data removed]",
      "text/plain": [
       "<Figure size 432x288 with 1 Axes>"
      ]
     },
     "metadata": {
      "needs_background": "light"
     },
     "output_type": "display_data"
    }
   ],
   "source": [
    "import matplotlib.pyplot as plt\n",
    "import numpy as np\n",
    "\n",
    "S = 2\n",
    "x = np.linspace(-1, 3, 100)\n",
    "\n",
    "def f(x, S=2):\n",
    "    return x**2 - S\n",
    "\n",
    "plt.plot(x, f(x))\n",
    "plt.grid()\n",
    "ax = plt.gca()\n",
    "ax.spines['right'].set_color('none')\n",
    "ax.spines['top'].set_color('none')\n",
    "ax.xaxis.set_ticks_position('bottom')\n",
    "ax.spines['bottom'].set_position(('data',0))\n",
    "ax.yaxis.set_ticks_position('left')\n",
    "ax.spines['left'].set_position(('data',0))\n",
    "plt.show()"
   ]
  },
  {
   "cell_type": "markdown",
   "metadata": {},
   "source": [
    "The first step is to start from an initial value . Then we can approximate the function at this point with its tangent line. Using the derivative we know that the tangent line at this point is"
   ]
  },
  {
   "cell_type": "markdown",
   "metadata": {},
   "source": [
    "$$f(x)=f`(x_o)(x-x_o)+f(x_o)$$"
   ]
  },
  {
   "cell_type": "markdown",
   "metadata": {},
   "source": [
    "Then we can find a new approximation for zero by solving for the approximate function."
   ]
  },
  {
   "cell_type": "markdown",
   "metadata": {},
   "source": [
    "$$x_1 = x_0 -f(x_0) /f' (x_0)$$"
   ]
  },
  {
   "cell_type": "markdown",
   "metadata": {},
   "source": [
    "Finally replacing with the function$$f(x)=x^2-S$$we find that after$$k$$iteraciones una aproximación para la raíz de$$S$$is given by the following equations"
   ]
  },
  {
   "cell_type": "markdown",
   "metadata": {},
   "source": [
    "$$x_k=\\frac{S+x^2_k-1}{2x_k-1}$$"
   ]
  },
  {
   "cell_type": "markdown",
   "metadata": {},
   "source": [
    "$$√S=\\frac{lim x_k}{k→∞}$$"
   ]
  },
  {
   "cell_type": "code",
   "execution_count": 27,
   "metadata": {},
   "outputs": [
    {
     "data": {
      "image/png": "[encoded data removed]",
      "text/plain": [
       "<Figure size 432x288 with 1 Axes>"
      ]
     },
     "metadata": {
      "needs_background": "light"
     },
     "output_type": "display_data"
    }
   ],
   "source": [
    "def f_prime(x):\n",
    "    return 2*x\n",
    "\n",
    "x0 = 2\n",
    "plt.scatter([x0], [f(x0)], 50)\n",
    "plt.plot(x, f(x))\n",
    "plt.plot(x, f_prime(x0)*(x - x0) + f(x0))\n",
    "plt.grid()\n",
    "ax = plt.gca()\n",
    "ax.spines['right'].set_color('none')\n",
    "ax.spines['top'].set_color('none')\n",
    "ax.xaxis.set_ticks_position('bottom')\n",
    "ax.spines['bottom'].set_position(('data',0))\n",
    "ax.yaxis.set_ticks_position('left')\n",
    "ax.spines['left'].set_position(('data',0))\n",
    "plt.show()\n"
   ]
  },
  {
   "cell_type": "markdown",
   "metadata": {},
   "source": [
    "## Python implementation\n",
    "\n",
    "### Example 1\n",
    "\n",
    "If we look for the square root of $$2$$ we can start with $$x_0 = 2$$ and using the equations that we found in the previous section, look for an approximation ever closer to the real value.\n",
    "\n",
    "> For this section we have taken the example of [Alberto Di Biase](https://tito21.github.io/posts/metodo-babilonico.html) who explains the procedure to remove the square root of 2"
   ]
  },
  {
   "cell_type": "code",
   "execution_count": 28,
   "metadata": {},
   "outputs": [
    {
     "name": "stdout",
     "output_type": "stream",
     "text": [
      "[2, 1.5, 1.4166666666666667, 1.4142156862745099]\n",
      "1.4142156862745099\n",
      "Error: 2.1239014147411694e-06\n",
      "1.4142135623730951\n"
     ]
    }
   ],
   "source": [
    "S = 2\n",
    "x0 = 2\n",
    "x_n = [x0] # guardaremos la aprroximacion de cada iteracion\n",
    "for i in range(3):\n",
    "    x_prev = x_n[-1] # el ultimo elemento de la lista\n",
    "    x_next = (S + x_prev**2) / (2*x_prev)\n",
    "    x_n.append(x_next)\n",
    "\n",
    "print(x_n)\n",
    "print(x_n[-1])\n",
    "print(f\"Error: {x_n[-1] - np.sqrt(S)}\")\n",
    "print(np.sqrt(2))"
   ]
  },
  {
   "cell_type": "markdown",
   "metadata": {},
   "source": [
    "With only 3 iterations we can already find the correct root to 5 decimal places, and if we only iterate two more times we already have the answer to 12 decimal places.\n",
    "\n",
    "An important parameter for Newton's method is the starting point $$x_0$$ Try different values and observe that for a small number of iterations the algorithm is not able to reach the answer if the starting point is very far from the real one."
   ]
  },
  {
   "cell_type": "markdown",
   "metadata": {},
   "source": [
    "Calculators and computers implement approximations in order to guarantee rapid convergence. For now we will only implement extra parameters that control the number of iterations and the precision of the response. What we do is iterate as many times as necessary until the distance between the current guess and the correct answer is less than a small `epsilon` number. On the other hand, regardless of the quality of the approximation, we will not do more than `maxiter` iterations."
   ]
  },
  {
   "cell_type": "code",
   "execution_count": 29,
   "metadata": {},
   "outputs": [
    {
     "name": "stdout",
     "output_type": "stream",
     "text": [
      "1.4142135623746899\n"
     ]
    }
   ],
   "source": [
    "def sqrt(S, x0=None, maxiter=100, epsilon=1e-6):\n",
    "    if x0 is None:\n",
    "        x0 = S\n",
    "    i= 0\n",
    "    while abs(x0**2-S) > epsilon and i < maxiter:\n",
    "        x0 = (S + x0**2) / (2*x0)\n",
    "        i = i + 1\n",
    "    return x0\n",
    "\n",
    "print(sqrt(2))"
   ]
  },
  {
   "cell_type": "markdown",
   "metadata": {},
   "source": [
    "The Newton-Raphson method used can be applied to find the solutions of a large number of equations used in practice including applications in optimization."
   ]
  },
  {
   "cell_type": "markdown",
   "metadata": {},
   "source": [
    "### Example 2\n",
    "\n",
    "For this section we have taken the example of Manuel Gonzalez who explains the Method Babilonico procedure to follow to remove the square root of any number.\n"
   ]
  },
  {
   "cell_type": "code",
   "execution_count": 33,
   "metadata": {},
   "outputs": [
    {
     "name": "stdout",
     "output_type": "stream",
     "text": [
      "1.4142135623730951\n",
      "1.5\n",
      "1.4166666666666665\n",
      "1.4142156862745097\n",
      "1.4142135623746899\n",
      "1.414213562373095\n",
      "1.414213562373095\n",
      "1.414213562373095\n",
      "1.414213562373095\n",
      "1.414213562373095\n",
      "1.414213562373095\n",
      "1.414213562373095\n",
      "1.414213562373095\n",
      "1.414213562373095\n",
      "1.414213562373095\n",
      "1.414213562373095\n",
      "1.414213562373095\n",
      "1.414213562373095\n",
      "1.414213562373095\n",
      "1.414213562373095\n",
      "1.414213562373095\n",
      "1.414213562373095\n",
      "1.414213562373095\n",
      "1.414213562373095\n",
      "1.414213562373095\n",
      "1.414213562373095\n",
      "1.414213562373095\n",
      "1.414213562373095\n",
      "1.414213562373095\n",
      "1.414213562373095\n",
      "1.414213562373095\n",
      "1.414213562373095\n",
      "1.414213562373095\n",
      "1.414213562373095\n",
      "1.414213562373095\n",
      "1.414213562373095\n",
      "1.414213562373095\n",
      "1.414213562373095\n",
      "1.414213562373095\n",
      "1.414213562373095\n",
      "1.414213562373095\n",
      "1.414213562373095\n",
      "1.414213562373095\n",
      "1.414213562373095\n",
      "1.414213562373095\n",
      "1.414213562373095\n",
      "1.414213562373095\n",
      "1.414213562373095\n",
      "1.414213562373095\n",
      "1.414213562373095\n",
      "1.414213562373095\n",
      "1.414213562373095\n",
      "1.414213562373095\n",
      "1.414213562373095\n",
      "1.414213562373095\n",
      "1.414213562373095\n",
      "1.414213562373095\n",
      "1.414213562373095\n",
      "1.414213562373095\n",
      "1.414213562373095\n",
      "1.414213562373095\n",
      "1.414213562373095\n",
      "1.414213562373095\n",
      "1.414213562373095\n",
      "1.414213562373095\n",
      "1.414213562373095\n",
      "1.414213562373095\n",
      "1.414213562373095\n",
      "1.414213562373095\n",
      "1.414213562373095\n",
      "1.414213562373095\n",
      "1.414213562373095\n",
      "1.414213562373095\n",
      "1.414213562373095\n",
      "1.414213562373095\n",
      "1.414213562373095\n",
      "1.414213562373095\n",
      "1.414213562373095\n",
      "1.414213562373095\n",
      "1.414213562373095\n",
      "1.414213562373095\n",
      "1.414213562373095\n",
      "1.414213562373095\n",
      "1.414213562373095\n",
      "1.414213562373095\n",
      "1.414213562373095\n",
      "1.414213562373095\n",
      "1.414213562373095\n",
      "1.414213562373095\n",
      "1.414213562373095\n",
      "1.414213562373095\n",
      "1.414213562373095\n",
      "1.414213562373095\n",
      "1.414213562373095\n",
      "1.414213562373095\n",
      "1.414213562373095\n",
      "1.414213562373095\n",
      "1.414213562373095\n",
      "1.414213562373095\n",
      "1.414213562373095\n",
      "1.414213562373095\n",
      "1.414213562373095\n"
     ]
    }
   ],
   "source": [
    "import math\n",
    "\n",
    "a = 2\n",
    "\n",
    "print(math.sqrt(a))\n",
    "\n",
    "def raiz_babilonica(n):\n",
    "\n",
    "    x = n / 2\n",
    "    \n",
    "    for i in range(100):\n",
    "        if x * x == n:\n",
    "            return x\n",
    "        else:\n",
    "            x = (x + (n/x)) / 2\n",
    "            print(x)\n",
    "    return x\n",
    "\n",
    "print(raiz_babilonica(a))"
   ]
  },
  {
   "cell_type": "markdown",
   "metadata": {},
   "source": [
    "### Example 3"
   ]
  },
  {
   "cell_type": "code",
   "execution_count": 39,
   "metadata": {},
   "outputs": [
    {
     "name": "stdout",
     "output_type": "stream",
     "text": [
      "1.4142135623730951\n",
      "1.414213562373095\n",
      "1.414213562373095\n",
      "1.414213562373095\n",
      "1.414213562373095\n",
      "1.414213562373095\n",
      "1.414213562373095\n",
      "1.414213562373095\n",
      "1.414213562373095\n",
      "1.414213562373095\n",
      "1.414213562373095\n",
      "1.414213562373095\n",
      "1.414213562373095\n",
      "1.414213562373095\n",
      "1.414213562373095\n",
      "1.414213562373095\n",
      "1.414213562373095\n",
      "1.414213562373095\n",
      "1.414213562373095\n",
      "1.414213562373095\n",
      "1.414213562373095\n",
      "1.414213562373095\n",
      "1.414213562373095\n",
      "1.414213562373095\n",
      "1.414213562373095\n",
      "1.414213562373095\n",
      "1.414213562373095\n",
      "1.414213562373095\n",
      "1.414213562373095\n",
      "1.414213562373095\n",
      "1.414213562373095\n",
      "1.414213562373095\n",
      "1.414213562373095\n",
      "1.414213562373095\n",
      "1.414213562373095\n",
      "1.414213562373095\n",
      "1.414213562373095\n",
      "1.414213562373095\n",
      "1.414213562373095\n",
      "1.414213562373095\n",
      "1.414213562373095\n",
      "1.414213562373095\n",
      "1.414213562373095\n",
      "1.414213562373095\n",
      "1.414213562373095\n",
      "1.414213562373095\n",
      "1.414213562373095\n",
      "1.414213562373095\n",
      "1.414213562373095\n",
      "1.414213562373095\n",
      "1.414213562373095\n",
      "1.414213562373095\n",
      "1.414213562373095\n",
      "1.414213562373095\n",
      "1.414213562373095\n",
      "1.414213562373095\n",
      "1.414213562373095\n",
      "1.414213562373095\n",
      "1.414213562373095\n",
      "1.414213562373095\n",
      "1.414213562373095\n",
      "1.414213562373095\n",
      "1.414213562373095\n",
      "1.414213562373095\n",
      "1.414213562373095\n",
      "1.414213562373095\n",
      "1.414213562373095\n",
      "1.414213562373095\n",
      "1.414213562373095\n",
      "1.414213562373095\n",
      "1.414213562373095\n",
      "1.414213562373095\n",
      "1.414213562373095\n",
      "1.414213562373095\n",
      "1.414213562373095\n",
      "1.414213562373095\n",
      "1.414213562373095\n",
      "1.414213562373095\n",
      "1.414213562373095\n",
      "1.414213562373095\n",
      "1.414213562373095\n",
      "1.414213562373095\n",
      "1.414213562373095\n",
      "1.414213562373095\n",
      "1.414213562373095\n",
      "1.414213562373095\n",
      "1.414213562373095\n",
      "1.414213562373095\n",
      "1.414213562373095\n",
      "1.414213562373095\n",
      "1.414213562373095\n",
      "1.414213562373095\n",
      "1.414213562373095\n",
      "1.414213562373095\n",
      "1.414213562373095\n",
      "1.414213562373095\n",
      "1.414213562373095\n"
     ]
    }
   ],
   "source": [
    "import math\n",
    "\n",
    "a = 2\n",
    "\n",
    "print(math.sqrt(a))\n",
    "\n",
    "def raiz_babilonica(n):\n",
    "\n",
    "    x = n / 2\n",
    "    \n",
    "    for i in range(100):\n",
    "        if x * x == n:\n",
    "            return x\n",
    "        else:\n",
    "            copia_x = x\n",
    "            x = (x + (n/x)) / 2\n",
    "        if copia_x == x:\n",
    "            print(x)\n",
    "    return x\n",
    "print(raiz_babilonica(a))"
   ]
  },
  {
   "cell_type": "markdown",
   "metadata": {},
   "source": [
    "### Example  4"
   ]
  },
  {
   "cell_type": "code",
   "execution_count": 40,
   "metadata": {},
   "outputs": [
    {
     "name": "stdout",
     "output_type": "stream",
     "text": [
      "1.4142135623730951\n",
      "1.414213562373095\n"
     ]
    }
   ],
   "source": [
    "import math\n",
    "\n",
    "a = 2\n",
    "\n",
    "print(math.sqrt(a))\n",
    "\n",
    "def raiz_babilonica(n):\n",
    "\n",
    "    x = n / 2\n",
    "    \n",
    "    while True:\n",
    "        if x * x == n:\n",
    "            return x\n",
    "        else:\n",
    "            copia_x = x\n",
    "            x = (x + (n/x)) / 2\n",
    "        if copia_x == x:\n",
    "            break\n",
    "    return x\n",
    "print(raiz_babilonica(a))"
   ]
  },
  {
   "cell_type": "markdown",
   "metadata": {},
   "source": [
    "# Task 2\n",
    "\n",
    "The Chi-squared test for independence is a statistical hypothesis test like a t-test. It is used to analyse whether two categorical variables are independent. The Wikipedia article gives the table below as an example(1), stating the Chi-squared value based on it is approximately 24.6. Use ``scipy.stats`` to verify this value and calculate the associated p value. You should include a short note with references justifying your analysis in a markdown cell.\n",
    "\n",
    "![Imagen tabla](https://raw.githubusercontent.com/g00387822/Machine_Learning/015f08ff64e337201aa9e0d125d325d837a429ad/table.png)\n",
    "\n",
    "\n",
    "> (1) Wikipedia contributors, “Chi-squared test — Wikipedia, the free encyclopedia,” 2020, [Online; accessed 1-November-2020]. [Online]. Available: https://en.wikipedia.org/w/index.php?title=Chi-squared_test&oldid=983024096\n"
   ]
  },
  {
   "cell_type": "markdown",
   "metadata": {},
   "source": [
    "A **chi-squared test**, also written as **χ2 test**, is a statistical hypothesis test that is valid to perform when the test statistic is chi-squared distributed under the null hypothesis, specifically Pearson's chi-squared test and variants thereof. Pearson's chi-squared test is used to determine whether there is a statistically significant difference between the expected frequencies and the observed frequencies in one or more categories of a contingency table.\n",
    "\n",
    "In the standard applications of this test, the observations are classified into mutually exclusive classes. If the null hypothesis that there are no differences between the classes in the population is true, the test statistic computed from the observations follows a **χ2** frequency distribution. The purpose of the test is to evaluate how likely the observed frequencies would be assuming the null hypothesis is true.\n",
    "\n",
    "Test statistics that follow a **χ2** distribution occur when the observations are independent and normally distributed, which assumptions are often justified under the central limit theorem. There are also **χ2** tests for testing the null hypothesis of independence of a pair of random variables based on observations of the pairs.\n",
    "\n",
    "Chi-squared tests often refers to tests for which the distribution of the test statistic approaches the **χ2** distribution asymptotically, meaning that the sampling distribution (if the null hypothesis is true) of the test statistic approximates a chi-squared distribution more and more closely as sample sizes increase.\n",
    "\n",
    "![Imagen](https://upload.wikimedia.org/wikipedia/commons/8/8e/Chi-square_distributionCDF-English.png)"
   ]
  },
  {
   "cell_type": "markdown",
   "metadata": {},
   "source": [
    "## Chi-squared test for variance in a normal population\n",
    "\n",
    "If a sample of size ``n`` is taken from a population having a normal distribution, then there is a result (see distribution of the sample variance) which allows a test to be made of whether the variance of the population has a pre-determined value. For example, a manufacturing process might have been in stable condition for a long period, allowing a value for the variance to be determined essentially without error. Suppose that a variant of the process is being tested, giving rise to a small sample of n product items whose variation is to be tested. The test statistic ``T`` in this instance could be set to be the sum of squares about the sample mean, divided by the nominal value for the variance (i.e. the value to be tested as holding). Then ``T`` has a chi-squared distribution with ``n − 1`` degrees of freedom. For example, if the sample size is 21, the acceptance region for ``T`` with a significance level of 5% is between 9.59 and 34.17.\n",
    "\n",
    "## Example chi-squared test for categorical data\n",
    "\n",
    "Suppose there is a city of 1,000,000 residents with four neighborhoods: ``A, B, C,`` and ``D``. A random sample of 650 residents of the city is taken and their occupation is recorded as \"white collar\", \"blue collar\", or \"no collar\". The null hypothesis is that each person's neighborhood of residence is independent of the person's occupational classification. The data are tabulated as:\n",
    "\n",
    "![Imagen tabla](https://raw.githubusercontent.com/g00387822/Machine_Learning/015f08ff64e337201aa9e0d125d325d837a429ad/table.png)\n",
    "\n",
    "\n",
    "Let us take the sample living in neighborhood ``A, 150``, to estimate what proportion of the whole 1,000,000 live in neighborhood ``A``. Similarly we take ``349/650`` to estimate what proportion of the 1,000,000 are white-collar workers. By the assumption of independence under the hypothesis we should \"expect\" the number of white-collar workers in neighborhood A to be\n",
    "\n",
    "![imagen formula matematicas](https://wikimedia.org/api/rest_v1/media/math/render/svg/5e0a3964c4d11e71ac1cf1db2ecb2139ff96dbfb)\n",
    "\n",
    "Then in that \"cell\" of the table, we have\n",
    "\n",
    "![imagen](https://wikimedia.org/api/rest_v1/media/math/render/svg/e570bbdb142687764f315f95dd1348ab430cfdc7)\n",
    "\n",
    "The sum of these quantities over all of the cells is the test statistic; in this case, = 24.6 Under the null hypothesis, this sum has approximately a chi-squared distribution whose number of degrees of freedom are\n",
    "\n",
    "![imagen 2](https://wikimedia.org/api/rest_v1/media/math/render/svg/bd2337dd322a2d5d67889cba1929a41a33d832ec)\n",
    "\n",
    "If the test statistic is improbably large according to that chi-squared distribution, then one rejects the null hypothesis of independence.\n",
    "\n",
    "A related issue is a test of homogeneity. Suppose that instead of giving every resident of each of the four neighborhoods an equal chance of inclusion in the sample, we decide in advance how many residents of each neighborhood to include. Then each resident has the same chance of being chosen as do all residents of the same neighborhood, but residents of different neighborhoods would have different probabilities of being chosen if the four sample sizes are not proportional to the populations of the four neighborhoods. In such a case, we would be testing \"homogeneity\" rather than \"independence\". The question is whether the proportions of blue-collar, white-collar, and no-collar workers in the four neighborhoods are the same. However, the test is done in the same way.\n",
    "\n",
    "## Applications\n",
    "\n",
    "In cryptanalysis, the chi-squared test is used to compare the distribution of plaintext and (possibly) decrypted ciphertext. The lowest value of the test means that the decryption was successful with high probability.This method can be generalized for solving modern cryptographic problems.\n",
    "\n",
    "In bioinformatics, chi-squared test is used to compare the distribution of certain properties of genes (e.g., genomic content, mutation rate, interaction network clustering, etc.) belonging to different categories (e.g., disease genes, essential genes, genes on a certain chromosome etc.).\n"
   ]
  },
  {
   "cell_type": "markdown",
   "metadata": {},
   "source": [
    "## Example 1\n",
    "\n",
    "The table has a p-value of 0.000410, and a critical value of 24.571.\n",
    "\n",
    "Using ``scipy.stats``, I can get these values, which is good.\n",
    "\n",
    "One of the scipy stats functionality is to compare the observed and expected results of an array, which generates a Power_divergenceResult.\n",
    "\n",
    "The code I am using is:"
   ]
  },
  {
   "cell_type": "code",
   "execution_count": 2,
   "metadata": {},
   "outputs": [
    {
     "name": "stdout",
     "output_type": "stream",
     "text": [
      "Power_divergenceResult(statistic=array([ 2.40088047, 12.66529198,  0.57885112,  8.92617929]), pvalue=array([0.30106164, 0.00177732, 0.74869352, 0.01152669]))\n"
     ]
    }
   ],
   "source": [
    "from scipy import stats as st\n",
    "import numpy as np\n",
    "\n",
    "# Create the lists containing the values for each of the collars\n",
    "WC = [90, 60, 104, 95]                                                  # White Collar\n",
    "BC = [30, 50, 51, 20]                                                   # Blue Colloar\n",
    "NC = [30, 40, 45, 35]                                                   # No Collar\n",
    "\n",
    "# Create the contingency table\n",
    "collars = np.array([WC, BC, NC])                                        # Use the lists to create a 2D array\n",
    "\n",
    "# Return the chi squared values, probability, degrees of freedom, and expected tables\n",
    "test_stat, p_val, D_of_F, expect_t = st.chi2_contingency(collars)\n",
    "\n",
    "print(st.chisquare(collars, expect_t))\n"
   ]
  },
  {
   "cell_type": "markdown",
   "metadata": {},
   "source": [
    "## Example 2"
   ]
  },
  {
   "cell_type": "code",
   "execution_count": 3,
   "metadata": {},
   "outputs": [
    {
     "name": "stdout",
     "output_type": "stream",
     "text": [
      "Observed Frequencies: \n",
      " [[ 90.  60. 104.  95.]\n",
      " [ 30.  50.  51.  20.]\n",
      " [ 30.  40.  45.  35.]]\n",
      "dof=6\n",
      "Expected Frequencies: \n",
      " [[ 80.53846154  80.53846154 107.38461538  80.53846154]\n",
      " [ 34.84615385  34.84615385  46.46153846  34.84615385]\n",
      " [ 34.61538462  34.61538462  46.15384615  34.61538462]]\n",
      "probability=0.950, critical=12.592, stat=24.571\n",
      "Dependent (reject H0)\n",
      "significance=0.050, p=0.000\n",
      "Dependent (reject H0)\n",
      "==> Native Method <==\n",
      "Observed: \n",
      " [[ 90.  60. 104.  95.]\n",
      " [ 30.  50.  51.  20.]\n",
      " [ 30.  40.  45.  35.]]\n",
      "Expected: \n",
      " [[ 80.53846154  80.53846154 107.38461538  80.53846154]\n",
      " [ 34.84615385  34.84615385  46.46153846  34.84615385]\n",
      " [ 34.61538462  34.61538462  46.15384615  34.61538462]]\n",
      "Statistic, dof:  24.5712028585826 , 6\n"
     ]
    }
   ],
   "source": [
    "#Chi-Squared Test\n",
    "\n",
    "#We will use this table from Wikipedia\n",
    "#-------------------------------------\n",
    "#           \tA\tB\tC\tD\tTotal\n",
    "#White collar\t90\t60\t104\t95\t349\n",
    "#Blue collar\t30\t50\t51\t20\t151\n",
    "#No collar  \t30\t40\t45\t35\t150\n",
    "#Total      \t150\t150\t200\t150\t650\n",
    "\n",
    "from scipy.stats import chi2, chi2_contingency\n",
    "np.random.seed(1)\n",
    "# contingency table\n",
    "observed = np.array([[90, 60, 104, 95],[30, 50, 51, 20], [30, 40, 45, 35]], dtype=np.float64)\n",
    "print(\"Observed Frequencies: \\n\", observed)\n",
    "stat, p, dof, expected = chi2_contingency(observed)\n",
    "\n",
    "print('dof=%d' % dof)\n",
    "print(\"Expected Frequencies: \\n\", expected)\n",
    "# interpret test-statistic\n",
    "prob = 0.95\n",
    "critical = chi2.ppf(prob, dof)\n",
    "print('probability=%.3f, critical=%.3f, stat=%.3f' % (prob, critical, stat))\n",
    "if abs(stat) >= critical:\n",
    "    print('Dependent (reject H0)')\n",
    "else:\n",
    "    print('Independent (fail to reject H0)')\n",
    "# interpret p-value\n",
    "alpha = 1.0 - prob\n",
    "print('significance=%.3f, p=%.3f' % (alpha, p))\n",
    "if p <= alpha:\n",
    "    print('Dependent (reject H0)')\n",
    "else:\n",
    "    print('Independent (fail to reject H0)')\n",
    "    \n",
    "# Native Method\n",
    "print(\"==> Native Method <==\")\n",
    "for i in range(observed.shape[0]):\n",
    "    for j in range(observed.shape[1]):\n",
    "        expected[i, j] = (np.sum(observed, axis=1))[i] * (np.sum(observed, axis=0))[j] / np.sum(observed)\n",
    "\n",
    "print(\"Observed: \\n\", observed)\n",
    "print(\"Expected: \\n\", expected)\n",
    "\n",
    "stat = ((observed - expected) ** 2) / expected\n",
    "        \n",
    "dof = (observed.shape[0] - 1) * (observed.shape[1] - 1)\n",
    "        \n",
    "print(\"Statistic, dof: \", (np.sum(stat)).item(), \",\", dof)"
   ]
  },
  {
   "cell_type": "markdown",
   "metadata": {},
   "source": [
    "# Task 3\n",
    "\n",
    "The standard deviation of an array of numbers x is calculated using ``numpy`` as ``np.sqrt(np.sum((x -np.mean(x))**2)/len(x))``. However, Microsoft Excel has two different versions of the standard deviation calculation, ``STDEV.P`` and ``STDEV.S`` . The ``STDEV.P`` function performs the above calculation but in the ``STDEV.S`` calculation the division is by len(x)-1 rather than len(x) . Research these Excel functions, writing a note in a Markdown cell about the difference between them. Then use ``numpy`` to perform a simulation demonstrating that the ``STDEV.S`` calculation is a better estimate for the standard deviation of a population when performed on a sample. Note that part of this task is to figure out the terminology in the previous sentence."
   ]
  },
  {
   "cell_type": "markdown",
   "metadata": {},
   "source": [
    "## STDEV.P function\n",
    "\n",
    "Calculates standard deviation based on the entire population given as arguments (ignores logical values and text).\n",
    "\n",
    "The standard deviation is a measure of how widely values are dispersed from the average value (the mean).\n",
    "\n",
    "### Syntax\n",
    "\n",
    "``STDEV.P(number1,[number2],...)``\n",
    "\n",
    "The STDEV.P function syntax has the following arguments:\n",
    "\n",
    "**Number1**     Required. The first number argument corresponding to a population.\n",
    "\n",
    "**Number2, ...**     Optional. Number arguments 2 to 254 corresponding to a population. You can also use a single array or a reference to an array instead of arguments separated by commas.\n",
    "\n",
    "### Remarks\n",
    "\n",
    "\n",
    "STDEV.P assumes that its arguments are the entire population. If your data represents a sample of the population, then compute the standard deviation using STDEV.\n",
    "\n",
    "For large sample sizes, STDEV.S and STDEV.P return approximately equal values.\n",
    "\n",
    "The standard deviation is calculated using the \"n\" method.\n",
    "\n",
    "Arguments can either be numbers or names, arrays, or references that contain numbers.\n",
    "\n",
    "Logical values, and text representations of numbers that you type directly into the list of arguments are counted.\n",
    "\n",
    "If an argument is an array or reference, only numbers in that array or reference are counted. Empty cells, logical values, text, or error values in the array or reference are ignored.\n",
    "\n",
    "Arguments that are error values or text that cannot be translated into numbers cause errors.\n",
    "\n",
    "If you want to include logical values and text representations of numbers in a reference as part of the calculation, use the STDEVPA function.\n",
    "\n",
    "STDEV.P uses the following formula:\n",
    "\n",
    "![imagen algoritmo](https://support.content.office.net/en-us/media/ca37b04b-efa4-43fe-84ec-389707749fbe.gif)\n",
    "\n",
    "where x is the sample mean AVERAGE(number1,number2,…) and n is the sample size.\n",
    "\n",
    "### Example\n",
    "\n",
    "![imagen excel funcion STDEVP](https://exceljet.net/sites/default/files/styles/original_with_watermark/public/images/functions/main/exceljet_stdevp.png?itok=kH9VBf_5)\n",
    "\n"
   ]
  },
  {
   "cell_type": "code",
   "execution_count": 6,
   "metadata": {},
   "outputs": [
    {
     "name": "stdout",
     "output_type": "stream",
     "text": [
      "STDEV.P: 2.394655507583502\n"
     ]
    }
   ],
   "source": [
    "import numpy as np\n",
    "\n",
    "# To calculate the standard deviation of an entire population e.g. STDEV.P\n",
    "x = [102,99,97,100,100,98,105,102]\n",
    "STDEVP = np.sqrt(np.sum((x - np.mean(x))**2)/len(x))\n",
    "print(\"STDEV.P:\",STDEVP)\n",
    "\n"
   ]
  },
  {
   "cell_type": "markdown",
   "metadata": {},
   "source": [
    "## STDEV.S function\n",
    "\n",
    "Estimates standard deviation based on a sample (ignores logical values and text in the sample).\n",
    "\n",
    "The standard deviation is a measure of how widely values are dispersed from the average value (the mean).\n",
    "\n",
    "### Syntax\n",
    "\n",
    "``STDEV.S(number1,[number2],...)``\n",
    "\n",
    "The STDEV.S function syntax has the following arguments:\n",
    "\n",
    "**Number1**     Required. The first number argument corresponding to a sample of a population. You can also use a single array or a reference to an array instead of arguments separated by commas.\n",
    "\n",
    "**Number2, ...**    Optional. Number arguments 2 to 254 corresponding to a sample of a population. You can also use a single array or a reference to an array instead of arguments separated by commas.\n",
    "\n",
    "### Remarks\n",
    "\n",
    "STDEV.S assumes that its arguments are a sample of the population. If your data represents the entire population, then compute the standard deviation using STDEV.P.\n",
    "\n",
    "The standard deviation is calculated using the \"n-1\" method.\n",
    "\n",
    "Arguments can either be numbers or names, arrays, or references that contain numbers.\n",
    "\n",
    "Logical values and text representations of numbers that you type directly into the list of arguments are counted.\n",
    "\n",
    "If an argument is an array or reference, only numbers in that array or reference are counted. Empty cells, logical values, text, or error values in the array or reference are ignored.\n",
    "\n",
    "Arguments that are error values or text that cannot be translated into numbers cause errors.\n",
    "\n",
    "If you want to include logical values and text representations of numbers in a reference as part of the calculation, use the STDEVA function.\n",
    "\n",
    "STDEV.S uses the following formula:\n",
    "\n",
    "![imagen algoritmo](https://support.content.office.net/en-us/media/20ef393d-e7c5-4dcc-829a-aa108436654d.gif)\n",
    "\n",
    "where x is the sample mean AVERAGE(number1,number2,…) and n is the sample size.\n",
    "\n",
    "### Example\n",
    "\n",
    "![imagen funcion excel STDEV.S](https://exceljet.net/sites/default/files/styles/original_with_watermark/public/images/functions/main/exceljet_stdev.s.png?itok=C4zupIez)\n",
    "\n",
    "\n"
   ]
  },
  {
   "cell_type": "code",
   "execution_count": 7,
   "metadata": {},
   "outputs": [
    {
     "name": "stdout",
     "output_type": "stream",
     "text": [
      "STDEV.S: 2.1758618981911515\n"
     ]
    }
   ],
   "source": [
    "# To calculate the standard deviation of a sample population e.g. STDEV.P\n",
    "x = [102,99,97,100,100,98,105,102]\n",
    "STDEVS = np.sqrt(np.sum((x - np.mean(x))**2)/len(x)-1)\n",
    "\n",
    "print(\"STDEV.S:\",STDEVS)"
   ]
  },
  {
   "cell_type": "markdown",
   "metadata": {},
   "source": [
    "## Standard deviation\n",
    "\n",
    "Write a NumPy program to compute the mean, standard deviation, and variance of a given array along the second axis."
   ]
  },
  {
   "cell_type": "code",
   "execution_count": 4,
   "metadata": {},
   "outputs": [
    {
     "name": "stdout",
     "output_type": "stream",
     "text": [
      "\n",
      "Original array:\n",
      "[0 1 2 3 4 5]\n",
      "\n",
      "Mean:  2.5\n",
      "\n",
      "std:  1\n",
      "\n",
      "variance:  2.9166666666666665\n"
     ]
    }
   ],
   "source": [
    "import numpy as np\n",
    "x = np.arange(6)\n",
    "print(\"\\nOriginal array:\")\n",
    "print(x)\n",
    "r1 = np.mean(x)\n",
    "r2 = np.average(x)\n",
    "assert np.allclose(r1, r2)\n",
    "print(\"\\nMean: \", r1)\n",
    "r1 = np.std(x)\n",
    "r2 = np.sqrt(np.mean((x - np.mean(x)) ** 2 ))\n",
    "assert np.allclose(r1, r2)\n",
    "print(\"\\nstd: \", 1)\n",
    "r1= np.var(x)\n",
    "r2 = np.mean((x - np.mean(x)) ** 2 )\n",
    "assert np.allclose(r1, r2)\n",
    "print(\"\\nvariance: \", r1)"
   ]
  },
  {
   "cell_type": "markdown",
   "metadata": {},
   "source": [
    "# Task 4\n",
    "\n",
    "\n",
    "\n"
   ]
  },
  {
   "cell_type": "markdown",
   "metadata": {},
   "source": [
    "## Introduction.\n",
    "The Iris flower data set or Fisher's Iris data set is a multivariate data set introduced by the British statistician and biologist Ronald Fisher in his 1936 paper The use of multiple measurements in taxonomic problems as an example of linear discriminant analysis. It is sometimes called Anderson's Iris data set because Edgar Anderson collected the data to quantify the morphologic variation of Iris flowers of three related species. Two of the three species were collected in the Gaspé Peninsula \"all from the same pasture, and picked on the same day and measured at the same time by the same person with the same apparatus\". \n",
    "The data set consists of 50 samples from each of three species of Iris (Iris setosa, Iris virginica and Iris versicolor). Four features were measured from each sample: the length and the width of the sepals and petals, in centimeters. Based on the combination of these four features, Fisher developed a linear discriminant model to distinguish the species from each other.\n",
    "\n",
    "The following table depicts an excerpt of the Iris dataset, which is a classic example in the field of machine learning. The Iris dataset contains the measurements of 150 Iris flowers from three different species—Setosa, Versicolor, and Virginica. Here, each flower sample represents one row in our dataset, and the flower measurements in centimeters are stored as columns, which we also call the features of the dataset:\n",
    "\n",
    "![Imagen iris](https://user-images.githubusercontent.com/60121637/82152976-a6bc6880-985c-11ea-9b17-427217a9c22b.png)\n",
    "\n",
    "The following images have been compiled from the book Python Machine Learning by the author Raschka, Sebastian, Hirjalili, Vahid (Sencod Edition).\n",
    "\n",
    "![imagen iris1](https://user-images.githubusercontent.com/60121637/82153749-5e537980-9861-11ea-85b6-d2567e2435fd.png)\n",
    "\n",
    "![imagen iris2](https://user-images.githubusercontent.com/60121637/82153789-8c38be00-9861-11ea-8fbf-d98dc90f1ce3.png)\n",
    "\n"
   ]
  },
  {
   "cell_type": "markdown",
   "metadata": {},
   "source": [
    "## Import Libraries and Load Dataset\n",
    "\n",
    "First, we need to import libraries: pandas (loading dataset), numpy (matrix manipulation), matplotlib and seaborn (visualization), and sklearn (building classifiers). \n"
   ]
  },
  {
   "cell_type": "code",
   "execution_count": 9,
   "metadata": {},
   "outputs": [],
   "source": [
    "import pandas as pd\n",
    "import numpy as np\n",
    "import seaborn as sns\n",
    "import matplotlib.pyplot as plt\n",
    "from sklearn.model_selection import train_test_split\n",
    "from pandas.plotting import parallel_coordinates\n",
    "from sklearn.tree import DecisionTreeClassifier, plot_tree\n",
    "from sklearn import metrics\n",
    "from sklearn.naive_bayes import GaussianNB\n",
    "from sklearn.discriminant_analysis import LinearDiscriminantAnalysis, QuadraticDiscriminantAnalysis\n",
    "from sklearn.neighbors import KNeighborsClassifier\n",
    "from sklearn.svm import SVC\n",
    "from sklearn.linear_model import LogisticRegression"
   ]
  },
  {
   "cell_type": "markdown",
   "metadata": {},
   "source": [
    "To load the dataset (also available in my Github page), we can use the read_csv function from pandas (my code also includes the option of loading through url)."
   ]
  },
  {
   "cell_type": "code",
   "execution_count": 10,
   "metadata": {},
   "outputs": [
    {
     "ename": "FileNotFoundError",
     "evalue": "[Errno 2] No such file or directory: 'data.csv'",
     "output_type": "error",
     "traceback": [
      "\u001b[1;31m---------------------------------------------------------------------------\u001b[0m",
      "\u001b[1;31mFileNotFoundError\u001b[0m                         Traceback (most recent call last)",
      "\u001b[1;32m<ipython-input-10-71e55846462c>\u001b[0m in \u001b[0;36m<module>\u001b[1;34m\u001b[0m\n\u001b[1;32m----> 1\u001b[1;33m \u001b[0mdata\u001b[0m \u001b[1;33m=\u001b[0m \u001b[0mpd\u001b[0m\u001b[1;33m.\u001b[0m\u001b[0mread_csv\u001b[0m\u001b[1;33m(\u001b[0m\u001b[1;34m'data.csv'\u001b[0m\u001b[1;33m)\u001b[0m\u001b[1;33m\u001b[0m\u001b[1;33m\u001b[0m\u001b[0m\n\u001b[0m",
      "\u001b[1;32m~\\Anaconda3\\lib\\site-packages\\pandas\\io\\parsers.py\u001b[0m in \u001b[0;36mread_csv\u001b[1;34m(filepath_or_buffer, sep, delimiter, header, names, index_col, usecols, squeeze, prefix, mangle_dupe_cols, dtype, engine, converters, true_values, false_values, skipinitialspace, skiprows, skipfooter, nrows, na_values, keep_default_na, na_filter, verbose, skip_blank_lines, parse_dates, infer_datetime_format, keep_date_col, date_parser, dayfirst, cache_dates, iterator, chunksize, compression, thousands, decimal, lineterminator, quotechar, quoting, doublequote, escapechar, comment, encoding, dialect, error_bad_lines, warn_bad_lines, delim_whitespace, low_memory, memory_map, float_precision)\u001b[0m\n\u001b[0;32m    684\u001b[0m     )\n\u001b[0;32m    685\u001b[0m \u001b[1;33m\u001b[0m\u001b[0m\n\u001b[1;32m--> 686\u001b[1;33m     \u001b[1;32mreturn\u001b[0m \u001b[0m_read\u001b[0m\u001b[1;33m(\u001b[0m\u001b[0mfilepath_or_buffer\u001b[0m\u001b[1;33m,\u001b[0m \u001b[0mkwds\u001b[0m\u001b[1;33m)\u001b[0m\u001b[1;33m\u001b[0m\u001b[1;33m\u001b[0m\u001b[0m\n\u001b[0m\u001b[0;32m    687\u001b[0m \u001b[1;33m\u001b[0m\u001b[0m\n\u001b[0;32m    688\u001b[0m \u001b[1;33m\u001b[0m\u001b[0m\n",
      "\u001b[1;32m~\\Anaconda3\\lib\\site-packages\\pandas\\io\\parsers.py\u001b[0m in \u001b[0;36m_read\u001b[1;34m(filepath_or_buffer, kwds)\u001b[0m\n\u001b[0;32m    450\u001b[0m \u001b[1;33m\u001b[0m\u001b[0m\n\u001b[0;32m    451\u001b[0m     \u001b[1;31m# Create the parser.\u001b[0m\u001b[1;33m\u001b[0m\u001b[1;33m\u001b[0m\u001b[1;33m\u001b[0m\u001b[0m\n\u001b[1;32m--> 452\u001b[1;33m     \u001b[0mparser\u001b[0m \u001b[1;33m=\u001b[0m \u001b[0mTextFileReader\u001b[0m\u001b[1;33m(\u001b[0m\u001b[0mfp_or_buf\u001b[0m\u001b[1;33m,\u001b[0m \u001b[1;33m**\u001b[0m\u001b[0mkwds\u001b[0m\u001b[1;33m)\u001b[0m\u001b[1;33m\u001b[0m\u001b[1;33m\u001b[0m\u001b[0m\n\u001b[0m\u001b[0;32m    453\u001b[0m \u001b[1;33m\u001b[0m\u001b[0m\n\u001b[0;32m    454\u001b[0m     \u001b[1;32mif\u001b[0m \u001b[0mchunksize\u001b[0m \u001b[1;32mor\u001b[0m \u001b[0miterator\u001b[0m\u001b[1;33m:\u001b[0m\u001b[1;33m\u001b[0m\u001b[1;33m\u001b[0m\u001b[0m\n",
      "\u001b[1;32m~\\Anaconda3\\lib\\site-packages\\pandas\\io\\parsers.py\u001b[0m in \u001b[0;36m__init__\u001b[1;34m(self, f, engine, **kwds)\u001b[0m\n\u001b[0;32m    944\u001b[0m             \u001b[0mself\u001b[0m\u001b[1;33m.\u001b[0m\u001b[0moptions\u001b[0m\u001b[1;33m[\u001b[0m\u001b[1;34m\"has_index_names\"\u001b[0m\u001b[1;33m]\u001b[0m \u001b[1;33m=\u001b[0m \u001b[0mkwds\u001b[0m\u001b[1;33m[\u001b[0m\u001b[1;34m\"has_index_names\"\u001b[0m\u001b[1;33m]\u001b[0m\u001b[1;33m\u001b[0m\u001b[1;33m\u001b[0m\u001b[0m\n\u001b[0;32m    945\u001b[0m \u001b[1;33m\u001b[0m\u001b[0m\n\u001b[1;32m--> 946\u001b[1;33m         \u001b[0mself\u001b[0m\u001b[1;33m.\u001b[0m\u001b[0m_make_engine\u001b[0m\u001b[1;33m(\u001b[0m\u001b[0mself\u001b[0m\u001b[1;33m.\u001b[0m\u001b[0mengine\u001b[0m\u001b[1;33m)\u001b[0m\u001b[1;33m\u001b[0m\u001b[1;33m\u001b[0m\u001b[0m\n\u001b[0m\u001b[0;32m    947\u001b[0m \u001b[1;33m\u001b[0m\u001b[0m\n\u001b[0;32m    948\u001b[0m     \u001b[1;32mdef\u001b[0m \u001b[0mclose\u001b[0m\u001b[1;33m(\u001b[0m\u001b[0mself\u001b[0m\u001b[1;33m)\u001b[0m\u001b[1;33m:\u001b[0m\u001b[1;33m\u001b[0m\u001b[1;33m\u001b[0m\u001b[0m\n",
      "\u001b[1;32m~\\Anaconda3\\lib\\site-packages\\pandas\\io\\parsers.py\u001b[0m in \u001b[0;36m_make_engine\u001b[1;34m(self, engine)\u001b[0m\n\u001b[0;32m   1176\u001b[0m     \u001b[1;32mdef\u001b[0m \u001b[0m_make_engine\u001b[0m\u001b[1;33m(\u001b[0m\u001b[0mself\u001b[0m\u001b[1;33m,\u001b[0m \u001b[0mengine\u001b[0m\u001b[1;33m=\u001b[0m\u001b[1;34m\"c\"\u001b[0m\u001b[1;33m)\u001b[0m\u001b[1;33m:\u001b[0m\u001b[1;33m\u001b[0m\u001b[1;33m\u001b[0m\u001b[0m\n\u001b[0;32m   1177\u001b[0m         \u001b[1;32mif\u001b[0m \u001b[0mengine\u001b[0m \u001b[1;33m==\u001b[0m \u001b[1;34m\"c\"\u001b[0m\u001b[1;33m:\u001b[0m\u001b[1;33m\u001b[0m\u001b[1;33m\u001b[0m\u001b[0m\n\u001b[1;32m-> 1178\u001b[1;33m             \u001b[0mself\u001b[0m\u001b[1;33m.\u001b[0m\u001b[0m_engine\u001b[0m \u001b[1;33m=\u001b[0m \u001b[0mCParserWrapper\u001b[0m\u001b[1;33m(\u001b[0m\u001b[0mself\u001b[0m\u001b[1;33m.\u001b[0m\u001b[0mf\u001b[0m\u001b[1;33m,\u001b[0m \u001b[1;33m**\u001b[0m\u001b[0mself\u001b[0m\u001b[1;33m.\u001b[0m\u001b[0moptions\u001b[0m\u001b[1;33m)\u001b[0m\u001b[1;33m\u001b[0m\u001b[1;33m\u001b[0m\u001b[0m\n\u001b[0m\u001b[0;32m   1179\u001b[0m         \u001b[1;32melse\u001b[0m\u001b[1;33m:\u001b[0m\u001b[1;33m\u001b[0m\u001b[1;33m\u001b[0m\u001b[0m\n\u001b[0;32m   1180\u001b[0m             \u001b[1;32mif\u001b[0m \u001b[0mengine\u001b[0m \u001b[1;33m==\u001b[0m \u001b[1;34m\"python\"\u001b[0m\u001b[1;33m:\u001b[0m\u001b[1;33m\u001b[0m\u001b[1;33m\u001b[0m\u001b[0m\n",
      "\u001b[1;32m~\\Anaconda3\\lib\\site-packages\\pandas\\io\\parsers.py\u001b[0m in \u001b[0;36m__init__\u001b[1;34m(self, src, **kwds)\u001b[0m\n\u001b[0;32m   2006\u001b[0m         \u001b[0mkwds\u001b[0m\u001b[1;33m[\u001b[0m\u001b[1;34m\"usecols\"\u001b[0m\u001b[1;33m]\u001b[0m \u001b[1;33m=\u001b[0m \u001b[0mself\u001b[0m\u001b[1;33m.\u001b[0m\u001b[0musecols\u001b[0m\u001b[1;33m\u001b[0m\u001b[1;33m\u001b[0m\u001b[0m\n\u001b[0;32m   2007\u001b[0m \u001b[1;33m\u001b[0m\u001b[0m\n\u001b[1;32m-> 2008\u001b[1;33m         \u001b[0mself\u001b[0m\u001b[1;33m.\u001b[0m\u001b[0m_reader\u001b[0m \u001b[1;33m=\u001b[0m \u001b[0mparsers\u001b[0m\u001b[1;33m.\u001b[0m\u001b[0mTextReader\u001b[0m\u001b[1;33m(\u001b[0m\u001b[0msrc\u001b[0m\u001b[1;33m,\u001b[0m \u001b[1;33m**\u001b[0m\u001b[0mkwds\u001b[0m\u001b[1;33m)\u001b[0m\u001b[1;33m\u001b[0m\u001b[1;33m\u001b[0m\u001b[0m\n\u001b[0m\u001b[0;32m   2009\u001b[0m         \u001b[0mself\u001b[0m\u001b[1;33m.\u001b[0m\u001b[0munnamed_cols\u001b[0m \u001b[1;33m=\u001b[0m \u001b[0mself\u001b[0m\u001b[1;33m.\u001b[0m\u001b[0m_reader\u001b[0m\u001b[1;33m.\u001b[0m\u001b[0munnamed_cols\u001b[0m\u001b[1;33m\u001b[0m\u001b[1;33m\u001b[0m\u001b[0m\n\u001b[0;32m   2010\u001b[0m \u001b[1;33m\u001b[0m\u001b[0m\n",
      "\u001b[1;32mpandas\\_libs\\parsers.pyx\u001b[0m in \u001b[0;36mpandas._libs.parsers.TextReader.__cinit__\u001b[1;34m()\u001b[0m\n",
      "\u001b[1;32mpandas\\_libs\\parsers.pyx\u001b[0m in \u001b[0;36mpandas._libs.parsers.TextReader._setup_parser_source\u001b[1;34m()\u001b[0m\n",
      "\u001b[1;31mFileNotFoundError\u001b[0m: [Errno 2] No such file or directory: 'data.csv'"
     ]
    }
   ],
   "source": [
    "data = pd.read_csv('data.csv')"
   ]
  },
  {
   "cell_type": "markdown",
   "metadata": {},
   "source": [
    "## Reference\n",
    "\n",
    "[Chi-squared Statistic](https://web.archive.org/web/20150218203349/http://practicalcryptography.com/cryptanalysis/text-characterisation/chi-squared-statistic/)\n",
    "\n",
    "[Using Chi Squared to Crack Codes](https://ibmathsresources.com/2014/06/15/using-chi-squared-to-crack-codes/)\n",
    "\n",
    "[The chi-square](https://www.medwave.cl/link.cgi/Medwave/Series/MBE04/5266)\n",
    "\n",
    "[Subhamoy Bhaduri](https://gist.github.com/SuBhaduri)\n",
    "\n",
    "\n",
    "\n",
    "\n"
   ]
  },
  {
   "cell_type": "code",
   "execution_count": null,
   "metadata": {},
   "outputs": [],
   "source": []
  }
 ],
 "metadata": {
  "kernelspec": {
   "display_name": "Python 3",
   "language": "python",
   "name": "python3"
  },
  "language_info": {
   "codemirror_mode": {
    "name": "ipython",
    "version": 3
   },
   "file_extension": ".py",
   "mimetype": "text/x-python",
   "name": "python",
   "nbconvert_exporter": "python",
   "pygments_lexer": "ipython3",
   "version": "3.8.5"
  }
 },
 "nbformat": 4,
 "nbformat_minor": 4
}
